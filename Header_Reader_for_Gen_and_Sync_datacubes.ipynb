{
 "cells": [
  {
   "cell_type": "markdown",
   "metadata": {},
   "source": [
    "### Obtaining HEADER information from datacubes generated in first and second steps of pipeline"
   ]
  },
  {
   "cell_type": "code",
   "execution_count": null,
   "metadata": {},
   "outputs": [],
   "source": [
    "import h5py\n",
    "import json\n",
    "import numpy as np"
   ]
  },
  {
   "cell_type": "markdown",
   "metadata": {},
   "source": [
    "#### For Datacube from Generation Step"
   ]
  },
  {
   "cell_type": "code",
   "execution_count": null,
   "metadata": {},
   "outputs": [],
   "source": [
    "directory_path = '/home/carl/Downloads/SOHO_7products_OCT4/EIT_LASCO_metadatatest_new'\n",
    "cube_file_from_Gen = '2010-10-10-13:13:47_to_2010-10-12-13:13:46_EIT195_subsample_12_LASCOlev1-N_SOHO_128_metadata.h5'"
   ]
  },
  {
   "cell_type": "code",
   "execution_count": null,
   "metadata": {},
   "outputs": [],
   "source": [
    "cube_from_Gen = h5py.File(f'{directory_path}/{cube_file_from_Gen}','r')"
   ]
  },
  {
   "cell_type": "code",
   "execution_count": null,
   "metadata": {},
   "outputs": [],
   "source": [
    "cube_from_Gen_keys = list(cube_from_Gen.keys())\n",
    "print('cube_from_Gen_keys:', cube_from_Gen_keys)"
   ]
  },
  {
   "cell_type": "code",
   "execution_count": null,
   "metadata": {},
   "outputs": [],
   "source": [
    "cube_from_Gen_attrs = list(cube_from_Gen.attrs.items())\n",
    "print('cube_from_Gen_attrs:', cube_from_Gen_attrs)"
   ]
  },
  {
   "cell_type": "code",
   "execution_count": null,
   "metadata": {},
   "outputs": [],
   "source": [
    "data_from_Gen = cube_from_Gen[cube_from_Gen_keys[0]][:]\n",
    "print('np.shape(data_from_Gen):', np.shape(data_from_Gen))"
   ]
  },
  {
   "cell_type": "code",
   "execution_count": null,
   "metadata": {},
   "outputs": [],
   "source": [
    "metadata_from_Gen = json.loads(cube_from_Gen[cube_from_Gen_keys[1]][()])\n",
    "print('metadata_from_Gen:', metadata_from_Gen)"
   ]
  },
  {
   "cell_type": "code",
   "execution_count": null,
   "metadata": {},
   "outputs": [],
   "source": [
    "desired_slice_from_Gen = 0 #enter value here\n",
    "\n",
    "metadata_from_Gen_keywords_pre = list(filter(lambda x: f'_{desired_slice_from_Gen}' in x, metadata_from_Gen))\n",
    "metadata_from_Gen_keywords_for_slice = list(filter(lambda x: len(str(desired_slice_from_Gen)) == len(x.split('_')[-1]), metadata_from_Gen_keywords_pre))\n",
    "print('metadata_from_Gen_keywords_for_slice:', metadata_from_Gen_keywords_for_slice)"
   ]
  },
  {
   "cell_type": "code",
   "execution_count": null,
   "metadata": {},
   "outputs": [],
   "source": [
    "metadata_from_Gen_header_for_slice = {}\n",
    "for m in metadata_from_Gen_keywords_for_slice:\n",
    "    metadata_from_Gen_header_for_slice[m]=metadata_from_Gen[m]\n",
    "print('metadata_from_Gen_header_for_slice:', metadata_from_Gen_header_for_slice)"
   ]
  },
  {
   "cell_type": "markdown",
   "metadata": {},
   "source": [
    "#### For Datacube from Sync Step"
   ]
  },
  {
   "cell_type": "code",
   "execution_count": null,
   "metadata": {},
   "outputs": [],
   "source": [
    "directory_path = '/home/carl/Downloads/SOHO_7products_OCT4/EIT_LASCO_metadatatest_new'\n",
    "cube_file_from_Sync = '2010-10-10_to_2010-10-12_EIT195_SOHO_2products_12_12_128_metadata_sync.h5'"
   ]
  },
  {
   "cell_type": "code",
   "execution_count": null,
   "metadata": {},
   "outputs": [],
   "source": [
    "cube_from_Sync = h5py.File(f'{directory_path}/{cube_file_from_Sync}','r')"
   ]
  },
  {
   "cell_type": "code",
   "execution_count": null,
   "metadata": {},
   "outputs": [],
   "source": [
    "cube_from_Sync_keys = list(cube_from_Sync.keys())\n",
    "print('cube_from_Sync_keys:', cube_from_Sync_keys) ### same keys as for pre-sync cube"
   ]
  },
  {
   "cell_type": "code",
   "execution_count": null,
   "metadata": {},
   "outputs": [],
   "source": [
    "cube_from_Sync_attrs = list(cube_from_Sync.attrs.items())\n",
    "print('cube_from_Sync_attrs:', cube_from_Sync_attrs) ### same attr as from pre-sync cube"
   ]
  },
  {
   "cell_type": "code",
   "execution_count": null,
   "metadata": {},
   "outputs": [],
   "source": [
    "data_from_Sync = cube_from_Sync[cube_from_Sync_keys[0]][:]\n",
    "print('np.shape(data_from_Sync):', np.shape(data_from_Sync))"
   ]
  },
  {
   "cell_type": "code",
   "execution_count": null,
   "metadata": {},
   "outputs": [],
   "source": [
    "metadata_from_Sync = json.loads(cube_from_Sync[cube_from_Sync_keys[1]][()])\n",
    "print('metadata_from_Sync:', metadata_from_Sync)"
   ]
  },
  {
   "cell_type": "code",
   "execution_count": null,
   "metadata": {},
   "outputs": [],
   "source": [
    "desired_slice_from_Sync = 0 #enter value here\n",
    "\n",
    "metadata_from_Sync_keywords_pre = list(filter(lambda x: f'_syncslice{desired_slice_from_Sync}' in x, metadata_from_Sync))\n",
    "metadata_from_Sync_keywords_for_slice = list(filter(lambda x: len('syncslice'+str(desired_slice_from_Sync)) == len(x.split('_')[-1]), metadata_from_Sync_keywords_pre))\n",
    "print('metadata_from_Sync_keywords_for_slice:', metadata_from_Sync_keywords_for_slice)"
   ]
  },
  {
   "cell_type": "code",
   "execution_count": null,
   "metadata": {},
   "outputs": [],
   "source": [
    "metadata_from_Sync_header_for_slice = {}\n",
    "for m in metadata_from_Sync_keywords_for_slice:\n",
    "    metadata_from_Sync_header_for_slice[m]=metadata_from_Sync[m]\n",
    "print('metadata_from_Sync_header_for_slice:', metadata_from_Sync_header_for_slice)"
   ]
  }
 ],
 "metadata": {
  "kernelspec": {
   "display_name": "Python 3",
   "language": "python",
   "name": "python3"
  },
  "language_info": {
   "codemirror_mode": {
    "name": "ipython",
    "version": 3
   },
   "file_extension": ".py",
   "mimetype": "text/x-python",
   "name": "python",
   "nbconvert_exporter": "python",
   "pygments_lexer": "ipython3",
   "version": "3.6.10"
  }
 },
 "nbformat": 4,
 "nbformat_minor": 2
}
